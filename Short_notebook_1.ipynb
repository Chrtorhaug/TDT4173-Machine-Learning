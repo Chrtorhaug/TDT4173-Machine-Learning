{
 "cells": [
  {
   "cell_type": "markdown",
   "id": "54d318c3-43e5-413f-a80e-f6e990d95179",
   "metadata": {},
   "source": [
    "##TEAM MEMBERS\n",
    "\n",
    "Aidan Stautland, 502841; Christian Torhaug, 564355; Jens Skaug, STUDID"
   ]
  },
  {
   "cell_type": "code",
   "execution_count": 1,
   "id": "f11a85d1-1da9-4b7c-a925-3a1b682388d2",
   "metadata": {},
   "outputs": [],
   "source": [
    "import pandas as pd\n",
    "import numpy as np\n",
    "from datetime import datetime\n",
    "from sklearn.model_selection import train_test_split\n",
    "import geopandas as gpd\n",
    "from geopy.distance import geodesic\n",
    "from shapely.geometry import Point"
   ]
  },
  {
   "cell_type": "markdown",
   "id": "d795c0d5-96b8-4bda-95df-a7d0df3697db",
   "metadata": {},
   "source": [
    "ais_sample_submission.csv"
   ]
  },
  {
   "cell_type": "code",
   "execution_count": 2,
   "id": "52a4fcd7-0fa8-4866-ae47-b7666655e343",
   "metadata": {
    "tags": []
   },
   "outputs": [],
   "source": [
    "sampledf = pd.read_csv(\"ais_sample_submission.csv\")\n",
    "\n",
    "sampledf[\"ID\"] = sampledf[\"ID\"].apply(lambda x: int(x))\n",
    "sampledf[\"latitude_predicted\"] = sampledf[\"latitude_predicted\"].apply(lambda x: float(x))\n",
    "sampledf[\"longitude_predicted\"] = sampledf[\"longitude_predicted\"].apply(lambda x: float(x))"
   ]
  },
  {
   "cell_type": "markdown",
   "id": "bbd046a4-909a-43b6-b859-acf7fc2a3532",
   "metadata": {
    "tags": []
   },
   "source": [
    "ais_test.csv"
   ]
  },
  {
   "cell_type": "code",
   "execution_count": 3,
   "id": "57fb181c-5054-42eb-ad17-7c1636e87dcf",
   "metadata": {
    "tags": []
   },
   "outputs": [],
   "source": [
    "testdf = pd.read_csv(\"ais_test.csv\")\n",
    "\n",
    "testdf[\"time\"] = testdf[\"time\"].apply(lambda x: datetime.strptime(x, \"%Y-%m-%d %H:%M:%S\"))\n",
    "testdf[\"scaling_factor\"] = testdf[\"scaling_factor\"].apply(lambda x: float(x))"
   ]
  },
  {
   "cell_type": "markdown",
   "id": "3904c6f1-ce80-42d0-ac0a-e9e06e45078b",
   "metadata": {},
   "source": [
    "ais_train.csv"
   ]
  },
  {
   "cell_type": "code",
   "execution_count": 4,
   "id": "10076f61-fb54-4eaf-b770-08b532f40609",
   "metadata": {
    "tags": []
   },
   "outputs": [],
   "source": [
    "traindf = pd.read_csv(\"~/Ais_Data/ais_train.csv\", sep=\"|\")\n",
    "\n",
    "def parseEta(row):\n",
    "    try:\n",
    "        return datetime.strptime(row['etaRaw'], \"%m-%d %H:%M\")\n",
    "    except ValueError:\n",
    "        return \"\"\n",
    "\n",
    "#traindf[\"time\"] = traindf[\"time\"].apply(lambda x: datetime.strptime(x, \"%Y-%m-%d %H:%M:%S\"))\n",
    "traindf[\"time\"] = pd.to_datetime(traindf[\"time\"]) \n",
    "traindf[\"cog\"] = traindf[\"cog\"].apply(lambda x: float(x) if float(x) < 360.0 else 360.0)\n",
    "traindf[\"sog\"] = traindf[\"sog\"].apply(lambda x: float(x) if float(x) <= 30.0 else 0)\n",
    "traindf[\"rot\"] = traindf[\"rot\"].apply(lambda x: int(x))\n",
    "traindf[\"heading\"] = traindf[\"heading\"].apply(lambda x: int(x) if int(x) < 360.0 else 360.0)\n",
    "traindf[\"etaRaw\"] = traindf.apply(parseEta, axis=1)\n",
    "traindf[\"latitude\"] = traindf[\"latitude\"].apply(lambda x: float(x))\n",
    "traindf[\"longitude\"] = traindf[\"longitude\"].apply(lambda x: float(x))\n",
    "\n",
    "traindf[\"navstat\"] = traindf[\"navstat\"].apply(lambda x: int(x) if x in [0, 1, 5, 8] else 15)\n",
    "traindf[\"navstat\"] = traindf[\"navstat\"].replace(8, 0)"
   ]
  },
  {
   "cell_type": "markdown",
   "id": "f8d1a308-b414-4c80-8dfa-5f241745525b",
   "metadata": {},
   "source": [
    "ports.csv"
   ]
  },
  {
   "cell_type": "code",
   "execution_count": 5,
   "id": "300bcee3-3599-4bc4-ba72-d727fd57a984",
   "metadata": {
    "tags": []
   },
   "outputs": [],
   "source": [
    "portsdf = pd.read_csv(\"ports.csv\", sep=\"|\")\n",
    "\n",
    "portsdf[\"latitude\"] = portsdf[\"latitude\"].apply(lambda x: float(x))\n",
    "portsdf[\"longitude\"] = portsdf[\"longitude\"].apply(lambda x: float(x))"
   ]
  },
  {
   "cell_type": "markdown",
   "id": "4e2a5db6-3378-4561-94a1-caa76c01f806",
   "metadata": {},
   "source": [
    "schedules_to_may_2024.csv"
   ]
  },
  {
   "cell_type": "code",
   "execution_count": 6,
   "id": "c88489f0-e85d-4015-9799-d6856c59b518",
   "metadata": {
    "tags": []
   },
   "outputs": [],
   "source": [
    "schedulesdf = pd.read_csv(\"~/Ais_Data/schedules_to_may_2024.csv\", sep=\"|\")\n",
    "schedulesdf = schedulesdf.drop_duplicates()\n",
    "schedulesdf = schedulesdf.dropna(subset=['portName'])\n",
    "\n",
    "schedulesdf[\"arrivalDate\"] = pd.to_datetime(schedulesdf[\"arrivalDate\"], errors='coerce')\n",
    "schedulesdf[\"arrivalDate\"] = schedulesdf[\"arrivalDate\"].dt.tz_convert('UTC').dt.tz_localize(None)\n",
    "schedulesdf[\"sailingDate\"] = pd.to_datetime(schedulesdf[\"sailingDate\"], errors='coerce')\n",
    "schedulesdf[\"sailingDate\"] = schedulesdf[\"sailingDate\"].dt.tz_convert('UTC').dt.tz_localize(None)\n",
    "schedulesdf[\"portLatitude\"] = schedulesdf[\"portLatitude\"].apply(lambda x: float(x))\n",
    "schedulesdf[\"portLongitude\"] = schedulesdf[\"portLongitude\"].apply(lambda x: float(x))"
   ]
  },
  {
   "cell_type": "markdown",
   "id": "bff9b5b2-d1d1-4bc0-98d0-452f589c1150",
   "metadata": {
    "tags": []
   },
   "source": [
    "vessels.csv"
   ]
  },
  {
   "cell_type": "code",
   "execution_count": 7,
   "id": "59d2444d-748d-4bfe-90d4-65ab5e748596",
   "metadata": {
    "tags": []
   },
   "outputs": [],
   "source": [
    "vehiclesdf = pd.read_csv(\"vessels.csv\", sep=\"|\")\n",
    "\n",
    "vehiclesdf[\"CEU\"] = vehiclesdf[\"CEU\"].apply(lambda x: int(x) if pd.notna(x) else 0)\n",
    "vehiclesdf[\"DWT\"] = vehiclesdf[\"DWT\"].apply(lambda x: int(x) if pd.notna(x) else 0)\n",
    "vehiclesdf[\"GT\"] = vehiclesdf[\"GT\"].apply(lambda x: int(x) if pd.notna(x) else 0)\n",
    "vehiclesdf[\"NT\"] = vehiclesdf[\"NT\"].apply(lambda x: int(x) if pd.notna(x) else 0)\n",
    "vehiclesdf[\"vesselType\"] = vehiclesdf[\"vesselType\"].apply(lambda x: int(x) if pd.notna(x) else 0)\n",
    "vehiclesdf[\"breadth\"] = vehiclesdf[\"breadth\"].apply(lambda x: float(x) if pd.notna(x) else 0)\n",
    "vehiclesdf[\"depth\"] = vehiclesdf[\"depth\"].apply(lambda x: float(x) if pd.notna(x) else 0)\n",
    "vehiclesdf[\"draft\"] = vehiclesdf[\"draft\"].apply(lambda x: float(x) if pd.notna(x) else 0)\n",
    "vehiclesdf[\"enginePower\"] = vehiclesdf[\"enginePower\"].apply(lambda x: float(x) if pd.notna(x) else 0)\n",
    "vehiclesdf[\"freshWater\"] = vehiclesdf[\"freshWater\"].apply(lambda x: float(x) if pd.notna(x) else 0)\n",
    "vehiclesdf[\"fuel\"] = vehiclesdf[\"fuel\"].apply(lambda x: float(x) if pd.notna(x) else 0)\n",
    "vehiclesdf[\"length\"] = vehiclesdf[\"length\"].apply(lambda x: float(x) if pd.notna(x) else 0)\n",
    "vehiclesdf[\"maxHeight\"] = vehiclesdf[\"maxHeight\"].apply(lambda x: float(x) if pd.notna(x) else 0)\n",
    "vehiclesdf[\"maxSpeed\"] = vehiclesdf[\"maxSpeed\"].apply(lambda x: float(x) if pd.notna(x) else 0)\n",
    "vehiclesdf[\"maxWidth\"] = vehiclesdf[\"maxWidth\"].apply(lambda x: float(x) if pd.notna(x) else 0)\n",
    "vehiclesdf[\"rampCapacity\"] = vehiclesdf[\"rampCapacity\"].apply(lambda x: float(x) if pd.notna(x) else 0)\n",
    "vehiclesdf[\"yearBuilt\"] = vehiclesdf[\"yearBuilt\"].apply(lambda x: datetime.strptime(str(x), \"%Y\"))"
   ]
  },
  {
   "cell_type": "markdown",
   "id": "c5105661-a278-4644-8f38-68ea007b3627",
   "metadata": {},
   "source": [
    "Function for calculating time difference"
   ]
  },
  {
   "cell_type": "code",
   "execution_count": 8,
   "id": "34db8edf-203d-415b-afc7-3cd425e4dda4",
   "metadata": {
    "tags": []
   },
   "outputs": [],
   "source": [
    "def timeDiff(t1: datetime, t2: datetime, i=\"s\"):\n",
    "    diff = t1 - t2 if t1 >= t2  else t2 - t1\n",
    "    if i == \"s\":\n",
    "        return diff.total_seconds()\n",
    "    elif i == \"m\":\n",
    "        return diff.total_seconds() // 60\n",
    "    elif i == \"h\":\n",
    "        return diff.total_seconds() // 3600\n",
    "    elif i == \"d\":\n",
    "        return diff.days\n",
    "    else:\n",
    "        return 0"
   ]
  },
  {
   "cell_type": "markdown",
   "id": "b5dce401-48f3-416d-bfdf-3b0b3bdd2222",
   "metadata": {
    "tags": []
   },
   "source": [
    "Adding WORKING_SIZE previous nodes to the ais_train dataframe"
   ]
  },
  {
   "cell_type": "code",
   "execution_count": 18,
   "id": "e5744bef-e36d-4eba-99a2-3bd08be69135",
   "metadata": {
    "tags": []
   },
   "outputs": [],
   "source": [
    "def prev_nodes_train(traindf: pd.DataFrame, WINDOW_SIZE=1):\n",
    "    for j in range(1, WINDOW_SIZE + 1):\n",
    "        traindf[f'latitude_{j}'] = traindf.groupby('vesselId')['latitude'].shift(j)\n",
    "        traindf[f'longitude_{j}'] = traindf.groupby('vesselId')['longitude'].shift(j)\n",
    "        \n",
    "        traindf[f'time_{j}'] = traindf.groupby('vesselId')['time'].shift(j)\n",
    "        traindf[f'time_{j}'] = (traindf['time'] - traindf[f'time_{j}']).dt.total_seconds()\n",
    "    \n",
    "    traindf['last_COG'] = traindf.groupby('vesselId')['cog'].shift(1)\n",
    "    traindf['last_SOG'] = traindf.groupby('vesselId')['sog'].shift(1)\n",
    "    traindf['last_COG'] = traindf['last_COG'].fillna(360.0)\n",
    "    traindf['last_SOG'] = traindf['last_SOG'].fillna(0)\n",
    "    return traindf\n",
    "\n",
    "def prev_nodes_test(traindf: pd.DataFrame, testdf: pd.DataFrame, WINDOW_SIZE=1):\n",
    "    grouped_train = traindf.groupby('vesselId')\n",
    "    \n",
    "    for j in range(1, WINDOW_SIZE + 1):\n",
    "        testdf[f'latitude_{j}'] = None\n",
    "        testdf[f'longitude_{j}'] = None\n",
    "        testdf[f'time_{j}'] = None\n",
    "\n",
    "    testdf['last_COG'] = None\n",
    "    testdf['last_SOG'] = None\n",
    "\n",
    "    for vesselId, test_vessel_data in testdf.groupby('vesselId'):\n",
    "        if vesselId in grouped_train.groups:\n",
    "            last_train_row = grouped_train.get_group(vesselId).iloc[-1]\n",
    "\n",
    "            last_lat = last_train_row['latitude']\n",
    "            last_lon = last_train_row['longitude']\n",
    "            last_cog = last_train_row['cog']\n",
    "            last_sog = last_train_row['sog']\n",
    "            last_time = last_train_row['time']\n",
    "\n",
    "            for j in range(1, WINDOW_SIZE + 1):\n",
    "                testdf.loc[test_vessel_data.index, f'latitude_{j}'] = last_lat\n",
    "                testdf.loc[test_vessel_data.index, f'longitude_{j}'] = last_lon\n",
    "                testdf.loc[test_vessel_data.index, f'time_{j}'] = (testdf.loc[test_vessel_data.index, 'time'] - last_time).dt.total_seconds()\n",
    "\n",
    "            testdf.loc[test_vessel_data.index, 'last_COG'] = last_cog\n",
    "            testdf.loc[test_vessel_data.index, 'last_SOG'] = last_sog\n",
    "\n",
    "    return testdf"
   ]
  },
  {
   "cell_type": "markdown",
   "id": "06055e33-ff33-4864-b0ca-124912b8ac4e",
   "metadata": {},
   "source": [
    "Checking if a boat is on a schedule"
   ]
  },
  {
   "cell_type": "code",
   "execution_count": 10,
   "id": "185b1c6a-0e42-4964-8627-75b8e20bc58d",
   "metadata": {
    "tags": []
   },
   "outputs": [],
   "source": [
    "def onSchedule(schedulesdf: pd.DataFrame, vesselId: str, time: datetime):\n",
    "    if schedulesdf.index.name != 'vesselId':\n",
    "        schedulesdf = schedulesdf.set_index('vesselId')\n",
    "        \n",
    "    if vesselId in schedulesdf.index:\n",
    "        vessel_schedules = schedulesdf.loc[vesselId]\n",
    "    else:\n",
    "        return None\n",
    "    \n",
    "    fitting_schedules = (vessel_schedules[\"sailingDate\"] >= time) & (vessel_schedules[\"arrivalDate\"] <= time)\n",
    "    if fitting_schedules.any():\n",
    "        matching_schedules = vessel_schedules.loc[fitting_schedules]\n",
    "        if len(matching_schedules) == 1:\n",
    "            return matching_schedules.iloc[0]\n",
    "    return None"
   ]
  },
  {
   "cell_type": "markdown",
   "id": "96633d29-9ce0-4060-9cc9-eff982eea98b",
   "metadata": {},
   "source": [
    "Finding Last Data Point"
   ]
  },
  {
   "cell_type": "code",
   "execution_count": 11,
   "id": "ddc2812e-2abf-4619-aacb-938165412480",
   "metadata": {
    "tags": []
   },
   "outputs": [],
   "source": [
    "def lastData(testdf: pd.DataFrame, traindf: pd.DataFrame):\n",
    "    vessels = testdf[\"vesselId\"].unique().tolist()\n",
    "    indexes = []\n",
    "\n",
    "    for v in vessels:\n",
    "        vessel_data = traindf[traindf['vesselId'] == v]\n",
    "        indexes.append(vessel_data.sort_values(by=\"time\").iloc[-1].name)\n",
    "\n",
    "    return traindf.loc[indexes].sort_values(by=\"time\")\n",
    "\n",
    "#print(lastData(testdf, traindf).head())"
   ]
  },
  {
   "cell_type": "markdown",
   "id": "e461f805-8291-48a6-b800-e72ebe159585",
   "metadata": {},
   "source": [
    "Distance"
   ]
  },
  {
   "cell_type": "code",
   "execution_count": 12,
   "id": "1618a4fe-3d76-4e4a-ae3e-b518e2064085",
   "metadata": {
    "tags": []
   },
   "outputs": [],
   "source": [
    "def distance(lat1, long1, lat2, long2):\n",
    "    return geodesic((lat1, long1), (lat2, long2)).meters"
   ]
  },
  {
   "cell_type": "markdown",
   "id": "e6668924-93ec-41a1-8fbe-12102f16583d",
   "metadata": {},
   "source": [
    "Checking if a vessel is near a port"
   ]
  },
  {
   "cell_type": "code",
   "execution_count": 13,
   "id": "93155d30-5d40-4c77-aee4-78936e619b68",
   "metadata": {
    "tags": []
   },
   "outputs": [],
   "source": [
    "from sklearn.neighbors import KDTree\n",
    "\n",
    "PORT_DIST_THRESH = 3000\n",
    "\n",
    "ports_coords = portsdf[[\"latitude\", \"longitude\"]].values\n",
    "kdtree = KDTree(ports_coords, leaf_size=30)\n",
    "\n",
    "def nearPort(portsdf: pd.DataFrame, lat, long):\n",
    "    rough_dist = PORT_DIST_THRESH / 100000\n",
    "    indices = kdtree.query_radius([[lat, long]], r=rough_dist)\n",
    "    for i in indices[0]:\n",
    "        port = portsdf.iloc[i]\n",
    "        if distance(lat, long ,port[\"latitude\"],port[\"longitude\"]) <= PORT_DIST_THRESH:\n",
    "            return port\n",
    "    return None"
   ]
  },
  {
   "cell_type": "markdown",
   "id": "c2a0156e-82df-41f5-91b2-43d66d97cdbd",
   "metadata": {},
   "source": [
    "Checking if a vessel is far from land"
   ]
  },
  {
   "cell_type": "code",
   "execution_count": 14,
   "id": "f998c34a-0539-466d-a918-c6f3eedcf6c7",
   "metadata": {
    "tags": []
   },
   "outputs": [],
   "source": [
    "MAP_LAND_PATH = \"~/datasets/ne_10m_land.zip\"\n",
    "MAP_OCEAN_PATH = \"~/datasets/ne_10m_ocean.zip\"\n",
    "    \n",
    "land_world = gpd.read_file(MAP_LAND_PATH)\n",
    "ocean_world = gpd.read_file(MAP_OCEAN_PATH)\n",
    "\n",
    "def farFromCoast(latitude, longitude, land_world=land_world, thresh=12):\n",
    "    land_world_projected = land_world.to_crs(epsg=3857)\n",
    "    point = gpd.GeoSeries([Point(longitude, latitude)], crs=\"EPSG:4326\").to_crs(epsg=3857)\n",
    "    \n",
    "    if land_world_projected.contains(point.iloc[0]).any():\n",
    "        return False\n",
    "    \n",
    "    land_boundary = land_world_projected.geometry.boundary.unary_union\n",
    "    distanceToCoast = point.distance(land_boundary)\n",
    "    distanceNM = distanceToCoast.min() / 1852\n",
    "    \n",
    "    return distanceNM > thresh"
   ]
  },
  {
   "cell_type": "markdown",
   "id": "375d0344-3441-4f64-89e8-328fe462a8a1",
   "metadata": {},
   "source": [
    "Calculating average SOG"
   ]
  },
  {
   "cell_type": "code",
   "execution_count": 15,
   "id": "b4966acc-484f-4743-8b43-1785424e6f9c",
   "metadata": {
    "tags": []
   },
   "outputs": [],
   "source": [
    "def avgSOG(traindf: pd.DataFrame):\n",
    "    filtered_df = traindf[traindf[\"navstat\"] == 0]\n",
    "    sog_means = filtered_df.groupby(\"vesselId\")[\"sog\"].mean()\n",
    "    return sog_means.to_dict()"
   ]
  },
  {
   "cell_type": "markdown",
   "id": "68c3b6f4-8d83-4adf-a05d-014a539a8b4c",
   "metadata": {},
   "source": [
    "Copying Test and Train Dataframe"
   ]
  },
  {
   "cell_type": "code",
   "execution_count": 16,
   "id": "ec8cb495-9a9c-4235-b1ca-9394a08b03f6",
   "metadata": {
    "tags": []
   },
   "outputs": [],
   "source": [
    "trainRFR = traindf.copy()\n",
    "testRFR = testdf.copy()"
   ]
  },
  {
   "cell_type": "markdown",
   "id": "63c6fea4-e22e-4f47-8b2d-32c1c71373de",
   "metadata": {},
   "source": [
    "Splitting data for ML"
   ]
  },
  {
   "cell_type": "code",
   "execution_count": 19,
   "id": "e8c08fa7-4c3d-4535-8a97-f3c0e3040284",
   "metadata": {
    "tags": []
   },
   "outputs": [],
   "source": [
    "vessels = trainRFR[\"vesselId\"].unique().tolist()\n",
    "vessel_dict = {vessel: i for i, vessel in enumerate(vessels)}\n",
    "\n",
    "ports = portsdf[\"portId\"].unique().tolist()\n",
    "port_dict = {port: i for i, port in enumerate(ports)}\n",
    "\n",
    "avg = avgSOG(trainRFR)\n",
    "\n",
    "# Adding previous nodes\n",
    "window_size = 1\n",
    "trainRFR = prev_nodes_train(trainRFR, window_size)\n",
    "testRFR = prev_nodes_test(trainRFR, testRFR, window_size)"
   ]
  },
  {
   "cell_type": "markdown",
   "id": "f1a1539d-fb43-4454-b885-d0c58533ac05",
   "metadata": {},
   "source": [
    "Creating a submission"
   ]
  },
  {
   "cell_type": "code",
   "execution_count": 20,
   "id": "2abac785-c94d-4c2e-b224-fcbfde22a3d6",
   "metadata": {
    "tags": []
   },
   "outputs": [],
   "source": [
    "def submission(sampledf: pd.DataFrame, lat_pred, lon_pred, deliver=False, name=\"SampleTest\") -> pd.DataFrame:\n",
    "    sample = sampledf.copy()\n",
    "\n",
    "    for i in range(len(lat_pred)):\n",
    "        sample.loc[i,\"longitude_predicted\"], sample.loc[i, \"latitude_predicted\"] = lon_pred[i], lat_pred[i]\n",
    "    \n",
    "    if deliver:\n",
    "        sample.to_csv(name + \".csv\", index=False)\n",
    "        \n",
    "    return sample\n",
    "\n",
    "#sample = submission(sampledf, testdf) \n",
    "#sample = submission(sampledf, testdf, True, \"Test1\")"
   ]
  },
  {
   "cell_type": "markdown",
   "id": "349114d3-78a0-4202-a0af-aad4445df26c",
   "metadata": {},
   "source": [
    "ML Random Forest"
   ]
  },
  {
   "cell_type": "code",
   "execution_count": 21,
   "id": "9632b87c-dbab-4ae7-a89e-9fda971fe57e",
   "metadata": {},
   "outputs": [
    {
     "name": "stdout",
     "output_type": "stream",
     "text": [
      "time             0\n",
      "vesselId         0\n",
      "latitude_1     539\n",
      "longitude_1    539\n",
      "time_1         539\n",
      "last_COG         0\n",
      "last_SOG         0\n",
      "Under_Way        0\n",
      "Anchored         0\n",
      "Moored           0\n",
      "avgSOG         506\n",
      "dtype: int64\n",
      "Random Forest Model without Feature Engineering\n",
      "Mean Squared Error (MSE): 1.0942\n",
      "Mean Absolute Error (MAE): 0.0588\n",
      "R^2 Score: 0.9979\n",
      "Random Forest Model without Feature Engineering\n",
      "Mean Squared Error (MSE): 9.0290\n",
      "Mean Absolute Error (MAE): 0.1116\n",
      "R^2 Score: 0.9981\n"
     ]
    }
   ],
   "source": [
    "from sklearn.ensemble import RandomForestRegressor\n",
    "from sklearn.metrics import mean_squared_error, mean_absolute_error, r2_score\n",
    "\n",
    "def evaluate_result(y_test, y_pred):\n",
    "    mse = mean_squared_error(y_test, y_pred)\n",
    "    mae = mean_absolute_error(y_test, y_pred)\n",
    "    r2 = r2_score(y_test, y_pred)\n",
    "    \n",
    "    print(f'Mean Squared Error (MSE): {mse:.4f}')\n",
    "    print(f'Mean Absolute Error (MAE): {mae:.4f}')\n",
    "    print(f'R^2 Score: {r2:.4f}')\n",
    "\n",
    "y_lat = trainRFR[\"latitude\"].copy()\n",
    "y_lon = trainRFR[\"longitude\"].copy()\n",
    "X = trainRFR.drop(columns=['latitude', 'longitude'])\n",
    "\n",
    "X = X.drop(columns=[\"etaRaw\", \"portId\", \"cog\", \"sog\", \"rot\", \"heading\"])\n",
    "#X[\"time\"] = X[\"time\"].astype(\"int64\") / 10**9\n",
    "X[\"time\"] = pd.to_numeric(X[\"time\"], errors='coerce')\n",
    "\n",
    "# Splitting Navstat\n",
    "X = pd.get_dummies(X, columns=[\"navstat\"], prefix=\"\", prefix_sep=\"\")\n",
    "X.rename(columns={\"0\": \"Under_Way\", \"1\": \"Anchored\", \"5\": \"Moored\"}, inplace=True)\n",
    "X = X.drop(columns=[\"15\"])\n",
    "\n",
    "X[\"avgSOG\"] = X[\"vesselId\"].apply(lambda x: avg.get(x))\n",
    "X[\"vesselId\"] = X[\"vesselId\"].map(vessel_dict)\n",
    "\n",
    "X_train, X_test, y_train_lat, y_test_lat = train_test_split(X, y_lat, test_size=0.2)\n",
    "\n",
    "#print(X_train[X_train[\"last_COG\"].isna()])  \n",
    "print(X_train.isna().sum())\n",
    "clf_lat = RandomForestRegressor(n_estimators=10, random_state=42)\n",
    "clf_lat.fit(X_train, y_train_lat)\n",
    "y_pred_lat = clf_lat.predict(X_test)\n",
    "\n",
    "print('Random Forest Model without Feature Engineering')\n",
    "evaluate_result(y_test_lat, y_pred_lat)\n",
    "\n",
    "#print(y_test_lat.tolist()[:10])\n",
    "#print(y_pred_lat[:10])\n",
    "\n",
    "X_train, X_test, y_train_lon, y_test_lon = train_test_split(X, y_lon, test_size=0.2)\n",
    "\n",
    "#print(X_test.head())\n",
    "clf_lon = RandomForestRegressor(n_estimators=10, random_state=42)\n",
    "clf_lon.fit(X_train, y_train_lon)\n",
    "y_pred_lon = clf_lon.predict(X_test)\n",
    "\n",
    "print('Random Forest Model without Feature Engineering')\n",
    "evaluate_result(y_test_lon, y_pred_lon)\n",
    "\n",
    "#print(y_test_lon.tolist()[:10])\n",
    "#print(y_pred_lon[:10])\n",
    "\n",
    "#testRFR[\"nearPort\"] = None\n",
    "testRFR[\"Under_Way\"] = None\n",
    "testRFR[\"Anchored\"] = None\n",
    "testRFR[\"Moored\"] = None\n",
    "\n",
    "test = testRFR.drop(columns=['ID', 'scaling_factor'])\n",
    "\n",
    "test[\"avgSOG\"] = test[\"vesselId\"].apply(lambda x: avg.get(x))\n",
    "\n",
    "#test[\"time\"] = test[\"time\"].astype(\"int64\") / 10**9\n",
    "test[\"time\"] = pd.to_numeric(test[\"time\"], errors='coerce')\n",
    "test[\"vesselId\"] = test[\"vesselId\"].map(vessel_dict)\n",
    "\n",
    "cols = test.columns.tolist()\n",
    "time_index = cols.index('time')\n",
    "vesselId_index = cols.index('vesselId')\n",
    "cols[time_index], cols[vesselId_index] = cols[vesselId_index], cols[time_index]\n",
    "test = test[cols]\n",
    "\n",
    "#print(testRFR.head())\n",
    "#print(test.head())\n",
    "\n",
    "lat_pred = clf_lat.predict(test)\n",
    "lon_pred = clf_lon.predict(test)\n",
    "\n",
    "#submission(sampledf, lat_pred, lon_pred, True, \"Test1\")\n",
    "#print(lat_pred)\n",
    "#print(lon_pred)"
   ]
  },
  {
   "cell_type": "code",
   "execution_count": 19,
   "id": "e4285cff-7e80-4689-92dd-9b091312a43e",
   "metadata": {
    "tags": []
   },
   "outputs": [
    {
     "data": {
      "text/html": [
       "<div>\n",
       "<style scoped>\n",
       "    .dataframe tbody tr th:only-of-type {\n",
       "        vertical-align: middle;\n",
       "    }\n",
       "\n",
       "    .dataframe tbody tr th {\n",
       "        vertical-align: top;\n",
       "    }\n",
       "\n",
       "    .dataframe thead th {\n",
       "        text-align: right;\n",
       "    }\n",
       "</style>\n",
       "<table border=\"1\" class=\"dataframe\">\n",
       "  <thead>\n",
       "    <tr style=\"text-align: right;\">\n",
       "      <th></th>\n",
       "      <th>ID</th>\n",
       "      <th>longitude_predicted</th>\n",
       "      <th>latitude_predicted</th>\n",
       "    </tr>\n",
       "  </thead>\n",
       "  <tbody>\n",
       "    <tr>\n",
       "      <th>0</th>\n",
       "      <td>0</td>\n",
       "      <td>-81.497904</td>\n",
       "      <td>31.146470</td>\n",
       "    </tr>\n",
       "    <tr>\n",
       "      <th>1</th>\n",
       "      <td>1</td>\n",
       "      <td>120.296279</td>\n",
       "      <td>14.816910</td>\n",
       "    </tr>\n",
       "    <tr>\n",
       "      <th>2</th>\n",
       "      <td>2</td>\n",
       "      <td>10.822399</td>\n",
       "      <td>38.355297</td>\n",
       "    </tr>\n",
       "    <tr>\n",
       "      <th>3</th>\n",
       "      <td>3</td>\n",
       "      <td>172.835421</td>\n",
       "      <td>-43.537873</td>\n",
       "    </tr>\n",
       "    <tr>\n",
       "      <th>4</th>\n",
       "      <td>4</td>\n",
       "      <td>-6.125929</td>\n",
       "      <td>48.580984</td>\n",
       "    </tr>\n",
       "    <tr>\n",
       "      <th>...</th>\n",
       "      <td>...</td>\n",
       "      <td>...</td>\n",
       "      <td>...</td>\n",
       "    </tr>\n",
       "    <tr>\n",
       "      <th>51734</th>\n",
       "      <td>51734</td>\n",
       "      <td>-43.136336</td>\n",
       "      <td>41.848029</td>\n",
       "    </tr>\n",
       "    <tr>\n",
       "      <th>51735</th>\n",
       "      <td>51735</td>\n",
       "      <td>-112.443457</td>\n",
       "      <td>35.409369</td>\n",
       "    </tr>\n",
       "    <tr>\n",
       "      <th>51736</th>\n",
       "      <td>51736</td>\n",
       "      <td>-113.569418</td>\n",
       "      <td>23.531067</td>\n",
       "    </tr>\n",
       "    <tr>\n",
       "      <th>51737</th>\n",
       "      <td>51737</td>\n",
       "      <td>24.438225</td>\n",
       "      <td>55.625616</td>\n",
       "    </tr>\n",
       "    <tr>\n",
       "      <th>51738</th>\n",
       "      <td>51738</td>\n",
       "      <td>-39.125730</td>\n",
       "      <td>54.643990</td>\n",
       "    </tr>\n",
       "  </tbody>\n",
       "</table>\n",
       "<p>51739 rows × 3 columns</p>\n",
       "</div>"
      ],
      "text/plain": [
       "          ID  longitude_predicted  latitude_predicted\n",
       "0          0           -81.497904           31.146470\n",
       "1          1           120.296279           14.816910\n",
       "2          2            10.822399           38.355297\n",
       "3          3           172.835421          -43.537873\n",
       "4          4            -6.125929           48.580984\n",
       "...      ...                  ...                 ...\n",
       "51734  51734           -43.136336           41.848029\n",
       "51735  51735          -112.443457           35.409369\n",
       "51736  51736          -113.569418           23.531067\n",
       "51737  51737            24.438225           55.625616\n",
       "51738  51738           -39.125730           54.643990\n",
       "\n",
       "[51739 rows x 3 columns]"
      ]
     },
     "execution_count": 19,
     "metadata": {},
     "output_type": "execute_result"
    }
   ],
   "source": [
    "submission(sampledf, lat_pred, lon_pred, True, \"prediction\")"
   ]
  },
  {
   "cell_type": "code",
   "execution_count": null,
   "id": "ba2329a5-2ee9-488c-bbca-d234e13b4b01",
   "metadata": {},
   "outputs": [],
   "source": []
  }
 ],
 "metadata": {
  "environment": {
   "kernel": "python3",
   "name": "common-cpu.m125",
   "type": "gcloud",
   "uri": "us-docker.pkg.dev/deeplearning-platform-release/gcr.io/base-cpu:m125"
  },
  "kernelspec": {
   "display_name": "Python 3 (Local)",
   "language": "python",
   "name": "python3"
  },
  "language_info": {
   "codemirror_mode": {
    "name": "ipython",
    "version": 3
   },
   "file_extension": ".py",
   "mimetype": "text/x-python",
   "name": "python",
   "nbconvert_exporter": "python",
   "pygments_lexer": "ipython3",
   "version": "3.10.15"
  }
 },
 "nbformat": 4,
 "nbformat_minor": 5
}
